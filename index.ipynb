{
 "cells": [
  {
   "cell_type": "markdown",
   "metadata": {
    "slideshow": {
     "slide_type": "slide"
    }
   },
   "source": [
    "## Hello.\n",
    "\n",
    "To follow along:\n",
    "\n",
    "### http://mybinder.org/repo/fwkoch/pyyyc-methods"
   ]
  },
  {
   "cell_type": "markdown",
   "metadata": {
    "slideshow": {
     "slide_type": "slide"
    }
   },
   "source": [
    "<a href=\"https://3ptscience.com\"><img src=\"images/3pt.png\" width=\"350\"></img></a>\n",
    "\n",
    "# Class Methods vs. Static Methods"
   ]
  },
  {
   "cell_type": "markdown",
   "metadata": {
    "slideshow": {
     "slide_type": "fragment"
    }
   },
   "source": [
    "#### ... vs. Instance Methods vs. Functions ..."
   ]
  },
  {
   "cell_type": "markdown",
   "metadata": {
    "slideshow": {
     "slide_type": "subslide"
    }
   },
   "source": [
    "## BUT FIRST - a quick Jupyter Notebook tutorial:"
   ]
  },
  {
   "cell_type": "markdown",
   "metadata": {
    "slideshow": {
     "slide_type": "fragment"
    }
   },
   "source": [
    "To execute a cell and move to the next `shift+enter`. Try it!"
   ]
  },
  {
   "cell_type": "markdown",
   "metadata": {
    "slideshow": {
     "slide_type": "subslide"
    }
   },
   "source": [
    "## Great!\n",
    "\n",
    "Ok, now there are two modes:\n",
    "- <span style=\"color:green\">GREEN OUTLINE</span>: \"Edit mode\" where typing, navigation, etc. happens within a cell\n",
    "- <span style=\"color:blue\">BLUE OUTLINE</span>: \"Command mode\" where navigation moves between cells and typing does who knows what!\n",
    "\n",
    "To go from <span style=\"color:green\">\"Edit mode\"</span> -> <span style=\"color:blue\">\"Command mode\"</span>: press `esc`\n",
    "\n",
    "To go from <span style=\"color:blue\">\"Command mode\"</span> -> <span style=\"color:green\">\"Edit mode\"</span>: press `enter`\n",
    "\n",
    "Switch back and forth now!  `esc enter esc enter esc enter`........ Ok, let's move on. `shift+enter` again."
   ]
  },
  {
   "cell_type": "code",
   "execution_count": null,
   "metadata": {
    "collapsed": false,
    "slideshow": {
     "slide_type": "subslide"
    }
   },
   "outputs": [],
   "source": [
    "# OK, that's probably enough! If you want to learn more\n",
    "# keyboard shortcuts, press \"h\" in Comand mode (BLUE OUTLINE)\n",
    "\n",
    "print('Oh, one more thing, in Command mode \"a\" or \"b\"\\n'\n",
    "      'insert cells above or below, respectively.')\n",
    "\n",
    "# shift+enter to execute!"
   ]
  },
  {
   "cell_type": "markdown",
   "metadata": {
    "slideshow": {
     "slide_type": "subslide"
    }
   },
   "source": [
    "Cool, so the only important commands for now are:\n",
    "- `enter`\n",
    "- `esc`\n",
    "- `shift+enter`\n",
    "- `a` or `b`\n",
    "\n",
    "## Moving on."
   ]
  },
  {
   "cell_type": "markdown",
   "metadata": {
    "slideshow": {
     "slide_type": "slide"
    }
   },
   "source": [
    "<img src=\"images/3pt_dots.png\" width=\"100\"></img>\n",
    "\n",
    "# Functions\n",
    "\n",
    "- Create these by just typing `def` out of nowhere\n",
    "- These live outside classes"
   ]
  },
  {
   "cell_type": "markdown",
   "metadata": {
    "slideshow": {
     "slide_type": "subslide"
    }
   },
   "source": [
    "Here's an example:"
   ]
  },
  {
   "cell_type": "code",
   "execution_count": null,
   "metadata": {
    "collapsed": false,
    "slideshow": {
     "slide_type": "fragment"
    }
   },
   "outputs": [],
   "source": [
    "def date_format(year, month, day):\n",
    "    return '{}-{}-{}'.format(year, month, day)"
   ]
  },
  {
   "cell_type": "code",
   "execution_count": null,
   "metadata": {
    "collapsed": false,
    "slideshow": {
     "slide_type": "fragment"
    }
   },
   "outputs": [],
   "source": [
    "print(date_format)"
   ]
  },
  {
   "cell_type": "markdown",
   "metadata": {
    "slideshow": {
     "slide_type": "fragment"
    }
   },
   "source": [
    "Now call it:"
   ]
  },
  {
   "cell_type": "code",
   "execution_count": null,
   "metadata": {
    "collapsed": false,
    "slideshow": {
     "slide_type": "fragment"
    }
   },
   "outputs": [],
   "source": [
    "date_format(2016, 9, 27)"
   ]
  },
  {
   "cell_type": "markdown",
   "metadata": {
    "slideshow": {
     "slide_type": "slide"
    }
   },
   "source": [
    "<img src=\"images/3pt_dots.png\" width=\"100\"></img>\n",
    "\n",
    "# Methods\n",
    "\n",
    "- Functions defined within a class\n",
    "- First argument is `self`, an instance of the class"
   ]
  },
  {
   "cell_type": "markdown",
   "metadata": {
    "slideshow": {
     "slide_type": "subslide"
    }
   },
   "source": [
    "Let's define a class with `__init__` and one method:"
   ]
  },
  {
   "cell_type": "code",
   "execution_count": null,
   "metadata": {
    "collapsed": false,
    "slideshow": {
     "slide_type": "fragment"
    }
   },
   "outputs": [],
   "source": [
    "class Date(object):\n",
    "    \n",
    "    def __init__(self, year, month, day):\n",
    "        self.year = year\n",
    "        self.month = month\n",
    "        self.day = day\n",
    "        \n",
    "    def to_string(self):\n",
    "        return '{}-{}-{}'.format(self.year, self.month, self.day)"
   ]
  },
  {
   "cell_type": "code",
   "execution_count": null,
   "metadata": {
    "collapsed": false,
    "slideshow": {
     "slide_type": "fragment"
    }
   },
   "outputs": [],
   "source": [
    "print(Date.to_string)"
   ]
  },
  {
   "cell_type": "code",
   "execution_count": null,
   "metadata": {
    "collapsed": false,
    "slideshow": {
     "slide_type": "fragment"
    }
   },
   "outputs": [],
   "source": [
    "june_seventh = Date(2016, 6, 7)\n",
    "print(june_seventh.to_string)"
   ]
  },
  {
   "cell_type": "code",
   "execution_count": null,
   "metadata": {
    "collapsed": false,
    "slideshow": {
     "slide_type": "fragment"
    }
   },
   "outputs": [],
   "source": [
    "june_seventh.to_string()"
   ]
  },
  {
   "cell_type": "markdown",
   "metadata": {
    "slideshow": {
     "slide_type": "slide"
    }
   },
   "source": [
    "<img src=\"images/3pt_dots.png\" width=\"100\"></img>\n",
    "\n",
    "# Function Decorators\n",
    "\n",
    "Remember `@property` from last week? That was a decorator. Basically, decorators are capable of fundamentally changing how a function works. That's really all you need to know for this presentation."
   ]
  },
  {
   "cell_type": "code",
   "execution_count": null,
   "metadata": {
    "collapsed": true,
    "slideshow": {
     "slide_type": "subslide"
    }
   },
   "outputs": [],
   "source": [
    "class Date(object):\n",
    "    \n",
    "    def __init__(self, year, month, day):\n",
    "        self.year = year\n",
    "        self.month = month\n",
    "        self.day = day\n",
    "        \n",
    "    def next_year_func(self):\n",
    "        return self.year\n",
    "    \n",
    "    @property\n",
    "    def next_year_prop(self):\n",
    "        return self.year"
   ]
  },
  {
   "cell_type": "code",
   "execution_count": null,
   "metadata": {
    "collapsed": false,
    "slideshow": {
     "slide_type": "fragment"
    }
   },
   "outputs": [],
   "source": [
    "june_eighth = Date(2016, 6, 8)"
   ]
  },
  {
   "cell_type": "code",
   "execution_count": null,
   "metadata": {
    "collapsed": false,
    "slideshow": {
     "slide_type": "fragment"
    }
   },
   "outputs": [],
   "source": [
    "june_eighth.next_year_func()"
   ]
  },
  {
   "cell_type": "code",
   "execution_count": null,
   "metadata": {
    "collapsed": false,
    "slideshow": {
     "slide_type": "fragment"
    }
   },
   "outputs": [],
   "source": [
    "june_eighth.next_year_prop"
   ]
  },
  {
   "cell_type": "markdown",
   "metadata": {
    "slideshow": {
     "slide_type": "slide"
    }
   },
   "source": [
    "<img src=\"images/3pt_dots.png\" width=\"100\"></img>\n",
    "\n",
    "# @classmethod\n",
    "\n",
    "These methods receive the class as the first implicit argument, not the instance.\n",
    "\n",
    "You can see their documentation <a href=\"https://docs.python.org/3/library/functions.html#classmethod\">here</a>."
   ]
  },
  {
   "cell_type": "code",
   "execution_count": null,
   "metadata": {
    "collapsed": true,
    "slideshow": {
     "slide_type": "subslide"
    }
   },
   "outputs": [],
   "source": [
    "class Date(object):\n",
    "    \n",
    "    def __init__(self, year, month, day):\n",
    "        self.year = year\n",
    "        self.month = month\n",
    "        self.day = day\n",
    "    \n",
    "    def normal_method(self):\n",
    "        print('Here, `self` is {}'.format(self))\n",
    "        \n",
    "    @classmethod\n",
    "    def class_method(self):\n",
    "        print('Here, `self` is {}'.format(self))"
   ]
  },
  {
   "cell_type": "code",
   "execution_count": null,
   "metadata": {
    "collapsed": false,
    "slideshow": {
     "slide_type": "subslide"
    }
   },
   "outputs": [],
   "source": [
    "june_ninth = Date(2016, 6, 9)\n",
    "june_ninth.normal_method()"
   ]
  },
  {
   "cell_type": "code",
   "execution_count": null,
   "metadata": {
    "collapsed": false,
    "slideshow": {
     "slide_type": "fragment"
    }
   },
   "outputs": [],
   "source": [
    "june_ninth.class_method()"
   ]
  },
  {
   "cell_type": "code",
   "execution_count": null,
   "metadata": {
    "collapsed": false,
    "slideshow": {
     "slide_type": "fragment"
    }
   },
   "outputs": [],
   "source": [
    "Date.normal_method()  # ERRORS!"
   ]
  },
  {
   "cell_type": "code",
   "execution_count": null,
   "metadata": {
    "collapsed": false,
    "slideshow": {
     "slide_type": "fragment"
    }
   },
   "outputs": [],
   "source": [
    "Date.class_method()"
   ]
  },
  {
   "cell_type": "markdown",
   "metadata": {
    "slideshow": {
     "slide_type": "slide"
    }
   },
   "source": [
    "<img src=\"images/3pt_dots.png\" width=\"100\"></img>\n",
    "\n",
    "# @staticmethod\n",
    "\n",
    "These methods receive NO implicit first argument, though they are still bound to a class\n",
    "\n",
    "You can see their documentation <a href=\"https://docs.python.org/3/library/functions.html#staticmethod\">here</a>."
   ]
  },
  {
   "cell_type": "code",
   "execution_count": null,
   "metadata": {
    "collapsed": true,
    "slideshow": {
     "slide_type": "subslide"
    }
   },
   "outputs": [],
   "source": [
    "class Date(object):\n",
    "    \n",
    "    def __init__(self, year, month, day):\n",
    "        self.year = year\n",
    "        self.month = month\n",
    "        self.day = day\n",
    "    \n",
    "    def normal_method(self):\n",
    "        print('Here, `self` is {}'.format(self))\n",
    "        \n",
    "    @staticmethod\n",
    "    def static_method():\n",
    "        print('No `self` and no errors')"
   ]
  },
  {
   "cell_type": "code",
   "execution_count": null,
   "metadata": {
    "collapsed": false,
    "slideshow": {
     "slide_type": "fragment"
    }
   },
   "outputs": [],
   "source": [
    "june_tenth = Date(2016, 6, 10)\n",
    "june_tenth.normal_method()"
   ]
  },
  {
   "cell_type": "code",
   "execution_count": null,
   "metadata": {
    "collapsed": false,
    "slideshow": {
     "slide_type": "fragment"
    }
   },
   "outputs": [],
   "source": [
    "june_tenth.static_method()"
   ]
  },
  {
   "cell_type": "code",
   "execution_count": null,
   "metadata": {
    "collapsed": false,
    "slideshow": {
     "slide_type": "fragment"
    }
   },
   "outputs": [],
   "source": [
    "Date.static_method()"
   ]
  },
  {
   "cell_type": "markdown",
   "metadata": {
    "slideshow": {
     "slide_type": "slide"
    }
   },
   "source": [
    "<img src=\"images/3pt_dots.png\" width=\"100\"></img>\n",
    "\n",
    "### Why use these?\n",
    "\n",
    "First, let's look at the python docs:\n",
    "\n",
    "> classmethod() ... is useful for creating alternate class constructors."
   ]
  },
  {
   "cell_type": "code",
   "execution_count": null,
   "metadata": {
    "collapsed": true,
    "slideshow": {
     "slide_type": "subslide"
    }
   },
   "outputs": [],
   "source": [
    "class Date(object):\n",
    "    \n",
    "    # Normal Date constructor:\n",
    "    def __init__(self, year, month, day):\n",
    "        self.year = year\n",
    "        self.month = month\n",
    "        self.day = day\n",
    "        \n",
    "    # Alternate Date constructor:\n",
    "    @classmethod\n",
    "    def from_string(cls, date_string, delim='-'):\n",
    "        y, m, d = date_string.split(delim)\n",
    "        return cls(y, m, d)\n",
    "    \n",
    "    def to_string(self):\n",
    "        return '{}-{}-{}'.format(self.year, self.month, self.day)"
   ]
  },
  {
   "cell_type": "code",
   "execution_count": null,
   "metadata": {
    "collapsed": false,
    "slideshow": {
     "slide_type": "fragment"
    }
   },
   "outputs": [],
   "source": [
    "june_eleventh = Date(2016, 6, 11)"
   ]
  },
  {
   "cell_type": "code",
   "execution_count": null,
   "metadata": {
    "collapsed": true,
    "slideshow": {
     "slide_type": "fragment"
    }
   },
   "outputs": [],
   "source": [
    "june_twelfth = Date.from_string('2016-6-12')"
   ]
  },
  {
   "cell_type": "markdown",
   "metadata": {
    "slideshow": {
     "slide_type": "subslide"
    }
   },
   "source": [
    "<img src=\"images/3pt_dots.png\" width=\"100\"></img>\n",
    "\n",
    "### Another (possibly misguided) thing to do:\n",
    "\n",
    "- Modify the class with classmethods\n",
    "- This may be a bad idea... but you can do it anyway..."
   ]
  },
  {
   "cell_type": "code",
   "execution_count": null,
   "metadata": {
    "collapsed": true,
    "slideshow": {
     "slide_type": "subslide"
    }
   },
   "outputs": [],
   "source": [
    "class Date(object):\n",
    "    \n",
    "    current_year=2016\n",
    "    current_month=9\n",
    "    current_day=27\n",
    "\n",
    "    def __init__(self, year, month, day):\n",
    "        self.year = year\n",
    "        self.month = month\n",
    "        self.day = day\n",
    "        \n",
    "    # Different alternate Date constructor:\n",
    "    @classmethod\n",
    "    def today(cls):\n",
    "        return cls(cls.current_year, cls.current_month, cls.current_day)\n",
    "    \n",
    "    # Other funny classmethods:\n",
    "    @classmethod\n",
    "    def alas_another_day_has_come_and_gone(cls):\n",
    "        cls.current_day = cls.current_day + 1\n",
    "        \n",
    "    def to_string(self):\n",
    "        return '{}-{}-{}'.format(self.year, self.month, self.day)"
   ]
  },
  {
   "cell_type": "code",
   "execution_count": null,
   "metadata": {
    "collapsed": false,
    "slideshow": {
     "slide_type": "subslide"
    }
   },
   "outputs": [],
   "source": [
    "september_twenty_seventh = Date.today()\n",
    "september_twenty_seventh.to_string()"
   ]
  },
  {
   "cell_type": "code",
   "execution_count": null,
   "metadata": {
    "collapsed": true,
    "slideshow": {
     "slide_type": "fragment"
    }
   },
   "outputs": [],
   "source": [
    "Date.alas_another_day_has_come_and_gone()"
   ]
  },
  {
   "cell_type": "code",
   "execution_count": null,
   "metadata": {
    "collapsed": false,
    "slideshow": {
     "slide_type": "fragment"
    }
   },
   "outputs": [],
   "source": [
    "september_twenty_eighth = Date.today()\n",
    "september_twenty_eighth.to_string()"
   ]
  },
  {
   "cell_type": "markdown",
   "metadata": {
    "slideshow": {
     "slide_type": "slide"
    }
   },
   "source": [
    "<img src=\"images/3pt_dots.png\" width=\"100\"></img>\n",
    "\n",
    "### What about staticmethods?\n",
    "\n",
    "- The biggest advantage here is code organization and readability. Remember that function we defined right at the beginning? It is still floating around..."
   ]
  },
  {
   "cell_type": "code",
   "execution_count": null,
   "metadata": {
    "collapsed": false,
    "slideshow": {
     "slide_type": "fragment"
    }
   },
   "outputs": [],
   "source": [
    "date_format(2016, 6, 13)"
   ]
  },
  {
   "cell_type": "markdown",
   "metadata": {
    "slideshow": {
     "slide_type": "subslide"
    }
   },
   "source": [
    "But really, `date_format` is pretty specific to `Date`. So let's make it a staticmethod instead:"
   ]
  },
  {
   "cell_type": "code",
   "execution_count": null,
   "metadata": {
    "collapsed": true,
    "slideshow": {
     "slide_type": "fragment"
    }
   },
   "outputs": [],
   "source": [
    "class Date(object):\n",
    "    \n",
    "    def __init__(self, year, month, day):\n",
    "        self.year = year\n",
    "        self.month = month\n",
    "        self.day = day\n",
    "        \n",
    "    @classmethod\n",
    "    def from_string(cls, date_string, delim='-'):\n",
    "        y, m, d = date_string.split(delim)\n",
    "        return cls(y, m, d)\n",
    "    \n",
    "    @staticmethod\n",
    "    def date_format(year, month, day):\n",
    "        return '{}-{}-{}'.format(year, month, day)\n",
    "        \n",
    "    def to_string(self):\n",
    "        return self.date_format(self.year, self.month, self.day)"
   ]
  },
  {
   "cell_type": "code",
   "execution_count": null,
   "metadata": {
    "collapsed": false,
    "slideshow": {
     "slide_type": "fragment"
    }
   },
   "outputs": [],
   "source": [
    "Date.date_format(2016, 6, 14)"
   ]
  },
  {
   "cell_type": "markdown",
   "metadata": {
    "slideshow": {
     "slide_type": "subslide"
    }
   },
   "source": [
    "<img src=\"images/3pt_dots.png\" width=\"100\"></img>\n",
    "\n",
    "### You can also override staticmethods in subclasses\n",
    "\n",
    "- You cannot do this with functions"
   ]
  },
  {
   "cell_type": "code",
   "execution_count": null,
   "metadata": {
    "collapsed": false,
    "slideshow": {
     "slide_type": "fragment"
    }
   },
   "outputs": [],
   "source": [
    "class EggplantDate(Date):\n",
    "    \n",
    "    @staticmethod\n",
    "    def date_format(year, month, day):\n",
    "        return u'{}\\U0001F346{}\\U0001F346{}'.format(year, month, day)"
   ]
  },
  {
   "cell_type": "code",
   "execution_count": null,
   "metadata": {
    "collapsed": false,
    "slideshow": {
     "slide_type": "fragment"
    }
   },
   "outputs": [],
   "source": [
    "print(Date.date_format(2016, 6, 15))"
   ]
  },
  {
   "cell_type": "code",
   "execution_count": null,
   "metadata": {
    "collapsed": false,
    "slideshow": {
     "slide_type": "fragment"
    }
   },
   "outputs": [],
   "source": [
    "print(EggplantDate.date_format(2016, 6, 15))"
   ]
  },
  {
   "cell_type": "code",
   "execution_count": null,
   "metadata": {
    "collapsed": false,
    "slideshow": {
     "slide_type": "fragment"
    }
   },
   "outputs": [],
   "source": [
    "eggplant = EggplantDate(1679, 1, 1)\n",
    "print(eggplant.to_string())"
   ]
  },
  {
   "cell_type": "markdown",
   "metadata": {
    "slideshow": {
     "slide_type": "subslide"
    }
   },
   "source": [
    "<img src=\"images/3pt_dots.png\" width=\"100\"></img>\n",
    "\n",
    "### One more subtle thing...\n",
    "\n",
    "- Reducing cost of code"
   ]
  },
  {
   "cell_type": "code",
   "execution_count": null,
   "metadata": {
    "collapsed": false,
    "slideshow": {
     "slide_type": "fragment"
    }
   },
   "outputs": [],
   "source": [
    "d1 = Date(2010, 1, 10)\n",
    "d2 = Date(2010, 1, 10)"
   ]
  },
  {
   "cell_type": "code",
   "execution_count": null,
   "metadata": {
    "collapsed": false,
    "slideshow": {
     "slide_type": "fragment"
    }
   },
   "outputs": [],
   "source": [
    "d1 is d2"
   ]
  },
  {
   "cell_type": "code",
   "execution_count": null,
   "metadata": {
    "collapsed": false,
    "slideshow": {
     "slide_type": "fragment"
    }
   },
   "outputs": [],
   "source": [
    "d1.to_string is d2.to_string  # Instance method"
   ]
  },
  {
   "cell_type": "code",
   "execution_count": null,
   "metadata": {
    "collapsed": false,
    "slideshow": {
     "slide_type": "fragment"
    }
   },
   "outputs": [],
   "source": [
    "d1.from_string is d2.from_string  # Class method"
   ]
  },
  {
   "cell_type": "code",
   "execution_count": null,
   "metadata": {
    "collapsed": false,
    "slideshow": {
     "slide_type": "fragment"
    }
   },
   "outputs": [],
   "source": [
    "d1.date_format is d2.date_format  # Static method"
   ]
  },
  {
   "cell_type": "markdown",
   "metadata": {
    "slideshow": {
     "slide_type": "slide"
    }
   },
   "source": [
    "<img src=\"images/3pt_dots.png\" width=\"100\"></img>\n",
    "\n",
    "## That's it. Thanks!"
   ]
  }
 ],
 "metadata": {
  "celltoolbar": "Slideshow",
  "kernelspec": {
   "display_name": "Python 3",
   "language": "python",
   "name": "python3"
  },
  "language_info": {
   "codemirror_mode": {
    "name": "ipython",
    "version": 3
   },
   "file_extension": ".py",
   "mimetype": "text/x-python",
   "name": "python",
   "nbconvert_exporter": "python",
   "pygments_lexer": "ipython3",
   "version": "3.5.2"
  }
 },
 "nbformat": 4,
 "nbformat_minor": 0
}
